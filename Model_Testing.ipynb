{
 "cells": [
  {
   "cell_type": "code",
   "execution_count": 2,
   "metadata": {},
   "outputs": [],
   "source": [
    "import pandas as pd\n",
    "from joblib import load\n",
    "import pickle\n",
    "import torch\n",
    "from torch import nn\n",
    "import torch.nn.functional as F\n",
    "from skorch import NeuralNetClassifier"
   ]
  },
  {
   "cell_type": "markdown",
   "metadata": {},
   "source": [
    "# Load data"
   ]
  },
  {
   "cell_type": "code",
   "execution_count": 3,
   "metadata": {},
   "outputs": [],
   "source": [
    "X_test = pd.read_csv(\"Data/X_test.csv\")\n",
    "y_test = pd.read_csv(\"Data/y_test.csv\")"
   ]
  },
  {
   "cell_type": "markdown",
   "metadata": {},
   "source": [
    "# Load models"
   ]
  },
  {
   "cell_type": "code",
   "execution_count": 13,
   "metadata": {},
   "outputs": [],
   "source": [
    "class MLP_relu(nn.Module):\n",
    "    def __init__(self, input_dim=10, num_hidden=1, hidden_dim=100, output_dim=4, dropout=0.5):\n",
    "        \"\"\"\n",
    "        input_dim: Number of cells in the input layer\n",
    "        num_hidden: Number of hidden layers\n",
    "        hidden_dim: Number of cells in each hidden_layer\n",
    "        output_dim: Number of cells in the output dimension \n",
    "        dropout: \n",
    "        \"\"\"\n",
    "        # Building the network from here\n",
    "        super(MLP_relu, self).__init__()\n",
    "        \n",
    "        # Class attributes\n",
    "        self.input_dim = input_dim\n",
    "        self.num_hidden = num_hidden\n",
    "        self.hidden_dim = hidden_dim\n",
    "        self.output_dim = output_dim\n",
    "        self.dropout = nn.Dropout(dropout)\n",
    "        \n",
    "        # Hidden layers\n",
    "        hidden = [nn.Linear(input_dim, hidden_dim) if i==0 else nn.Linear(hidden_dim, hidden_dim) for i in range(num_hidden)]\n",
    "        self.linears = nn.ModuleList(hidden)\n",
    "        \n",
    "        # Output layer\n",
    "        self.ol = nn.Linear(hidden_dim, output_dim)\n",
    "    \n",
    "    def forward(self, data, **kwargs):\n",
    "        # To float\n",
    "        X = data.float()\n",
    "        \n",
    "        # Hidden layers\n",
    "        for i, hl in enumerate(self.linears):\n",
    "            X = self.linears[i](X)\n",
    "            X = F.relu(X)\n",
    "            X = self.dropout(X)\n",
    "        \n",
    "        # Output layer\n",
    "        out = self.ol(X)\n",
    "        out = F.softmax(out, dim = -1)\n",
    "        \n",
    "        return out"
   ]
  },
  {
   "cell_type": "code",
   "execution_count": 14,
   "metadata": {},
   "outputs": [],
   "source": [
    "class MyNet(NeuralNetClassifier):\n",
    "    def check_data(self, X, y):\n",
    "        super().check_data(X, y)\n",
    "        if self.module_.input_dim != X.shape[1]:\n",
    "            self.set_params(module__input_dim=X.shape[1])\n",
    "            self.initialize()"
   ]
  },
  {
   "cell_type": "code",
   "execution_count": 15,
   "metadata": {},
   "outputs": [],
   "source": [
    "svm = load('Models/svm.joblib')\n",
    "with open('Models/mlp.pkl', 'rb') as f:\n",
    "    mlp = pickle.load(f)"
   ]
  },
  {
   "cell_type": "markdown",
   "metadata": {},
   "source": [
    "## Making predictions"
   ]
  },
  {
   "cell_type": "code",
   "execution_count": 16,
   "metadata": {},
   "outputs": [
    {
     "data": {
      "text/plain": [
       "array([1, 1, 3, ..., 0, 0, 0])"
      ]
     },
     "execution_count": 16,
     "metadata": {},
     "output_type": "execute_result"
    }
   ],
   "source": [
    "y_pred_svm = svm.predict(X_test.values.ravel())\n",
    "y_pred_svm"
   ]
  },
  {
   "cell_type": "code",
   "execution_count": 19,
   "metadata": {},
   "outputs": [
    {
     "data": {
      "text/plain": [
       "array([1, 1, 3, ..., 2, 3, 0])"
      ]
     },
     "execution_count": 19,
     "metadata": {},
     "output_type": "execute_result"
    }
   ],
   "source": [
    "y_pred_mlp = mlp.predict(X_test.values.ravel())\n",
    "y_pred_mlp"
   ]
  },
  {
   "cell_type": "markdown",
   "metadata": {},
   "source": [
    "## Weighted F1 score"
   ]
  },
  {
   "cell_type": "code",
   "execution_count": 9,
   "metadata": {},
   "outputs": [],
   "source": [
    "from sklearn.metrics import f1_score"
   ]
  },
  {
   "cell_type": "code",
   "execution_count": 10,
   "metadata": {},
   "outputs": [
    {
     "name": "stdout",
     "output_type": "stream",
     "text": [
      "SVM F1-score: 0.6646706960341937\n",
      "MLP F1-score: 0.5807301589265353\n"
     ]
    }
   ],
   "source": [
    "f1_svm = f1_score(y_test.values.ravel(), y_pred_svm, average='weighted')\n",
    "f1_mlp = f1_score(y_test.values.ravel(), y_pred_mlp, average='weighted')\n",
    "\n",
    "print(\"SVM F1-score:\", f1_svm)\n",
    "print(\"MLP F1-score:\", f1_mlp)"
   ]
  },
  {
   "cell_type": "code",
   "execution_count": null,
   "metadata": {},
   "outputs": [],
   "source": []
  }
 ],
 "metadata": {
  "kernelspec": {
   "display_name": "Python 3",
   "language": "python",
   "name": "python3"
  },
  "language_info": {
   "codemirror_mode": {
    "name": "ipython",
    "version": 3
   },
   "file_extension": ".py",
   "mimetype": "text/x-python",
   "name": "python",
   "nbconvert_exporter": "python",
   "pygments_lexer": "ipython3",
   "version": "3.8.3"
  }
 },
 "nbformat": 4,
 "nbformat_minor": 4
}
